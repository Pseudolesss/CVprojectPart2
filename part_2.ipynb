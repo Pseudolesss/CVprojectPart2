{
 "cells": [
  {
   "cell_type": "markdown",
   "metadata": {
    "collapsed": true
   },
   "source": [
    "# Installation\n",
    "## Cytomine:\n",
    "Using pip, you can do it with these two lines:\n",
    "~~~\n",
    "$ curl -s https://packagecloud.io/install/repositories/cytomine-uliege/Cytomine-python-client/script.python.sh | bash\n",
    "$ pip install cytomine-python-client\n",
    "~~~\n"
   ]
  },
  {
   "cell_type": "markdown",
   "metadata": {},
   "source": [
    "# Import\n"
   ]
  },
  {
   "cell_type": "code",
   "execution_count": null,
   "metadata": {},
   "outputs": [],
   "source": [
    "from cytomine import Cytomine\n",
    "from cytomine.models import ProjectCollection, ImageInstanceCollection, AnnotationCollection\n",
    "import getpass\n",
    "import shapely\n",
    "from shapely import wkt\n",
    "from shapely.affinity import affine_transform\n",
    "import cv2                             # OpenCV\n",
    "from imgTools import display, multiDisplay\n",
    "import os\n",
    "import logging"
   ]
  },
  {
   "cell_type": "markdown",
   "metadata": {},
   "source": [
    "# Connect to Cytomine"
   ]
  },
  {
   "cell_type": "code",
   "execution_count": null,
   "metadata": {},
   "outputs": [],
   "source": [
    "host = 'https://learn.cytomine.be'\n",
    "public_key = getpass.getpass('Public key : ')   # u can get it on your account\n",
    "private_key = getpass.getpass('Private key : ') # u can get it on your account\n",
    "\n",
    "conn = Cytomine.connect(host, public_key, private_key, verbose=logging.ERROR)\n",
    "# Check https://docs.python.org/3.6/library/logging.html#logging-levels  to see other verbose level\n",
    "print(conn.current_user)"
   ]
  },
  {
   "cell_type": "markdown",
   "metadata": {},
   "source": [
    "# Example Cytomine"
   ]
  },
  {
   "cell_type": "markdown",
   "metadata": {},
   "source": [
    "## Get projects"
   ]
  },
  {
   "cell_type": "code",
   "execution_count": null,
   "metadata": {},
   "outputs": [],
   "source": [
    "projects = ProjectCollection().fetch()\n",
    "print(\"\\nThe projects ids are : \\n--------\")\n",
    "for project in projects:\n",
    "    print(project.id)"
   ]
  },
  {
   "cell_type": "markdown",
   "metadata": {},
   "source": [
    "## Get images from projects"
   ]
  },
  {
   "cell_type": "code",
   "execution_count": null,
   "metadata": {
    "scrolled": false
   },
   "outputs": [],
   "source": [
    "projects = ProjectCollection().fetch()\n",
    "# => Fetch the collection of image instances, filtered by the given project.\n",
    "image_instances = ImageInstanceCollection().fetch_with_filter(\"project\", projects[0].id)\n",
    "print(image_instances)\n",
    "print(f\"\\nThe images of project {projects[0].id} are : \\n--------\")\n",
    "\n",
    "for image in image_instances[0:2]:\n",
    "    # Every element in the collection is an ImageInstance object.\n",
    "    # See ImageInstance class for all available properties (width, height, resolution, ...)\n",
    "    print(\"Image ID: {} | Width: {} | Height: {} | Resolution: {} | Magnification: {} | Filename: {}\".format(\n",
    "        image.id, image.width, image.height, image.resolution, image.magnification, image.filename\n",
    "    ))\n",
    "print(\"...\")\n",
    "print(f\"\\nThe fields of an image object are : \\n--------\")\n",
    "print(image_instances[0].__dict__)"
   ]
  },
  {
   "cell_type": "markdown",
   "metadata": {},
   "source": [
    "## Get annotations"
   ]
  },
  {
   "cell_type": "code",
   "execution_count": null,
   "metadata": {
    "scrolled": true
   },
   "outputs": [],
   "source": [
    "def get_by_id(haystack, needle):\n",
    "    return next((item for item in haystack if item.id == needle), None)\n",
    "\n",
    "# We want all annotations in a given project.\n",
    "annotations = AnnotationCollection()\n",
    "annotations.project = projects[0].id  # Add a filter: only annotations from this project\n",
    "# You could add other filters:\n",
    "# annotations.image = id_image => Add a filter: only annotations from this image\n",
    "# annotations.images = [id1, id2] => Add a filter: only annotations from these images\n",
    "# annotations.user = id_user => Add a filter: only annotations from this user\n",
    "# ...\n",
    "annotations.showWKT = True  # Ask to return WKT location (geometry) in the response\n",
    "annotations.showMeta = True  # Ask to return meta information (id, ...) in the response\n",
    "annotations.showGIS = True  # Ask to return GIS information (perimeter, area, ...) in the response\n",
    "# ...\n",
    "# => Fetch annotations from the server with the given filters.\n",
    "annotations.fetch()\n",
    "print(annotations)\n",
    "\n",
    "for i in range(2):\n",
    "    annotation = annotations[i]\n",
    "    print(f\"\\nAnnotation {i}:\\n---------\")\n",
    "    print(\"ID: {} | Image: {} | Project: {} | Term: {} | User: {} | Area: {} | Perimeter: {} | WKT: {}\".format(\n",
    "        annotation.id,\n",
    "        annotation.image,\n",
    "        annotation.project,\n",
    "        annotation.term,\n",
    "        annotation.user,\n",
    "        annotation.area,\n",
    "        annotation.perimeter,\n",
    "        annotation.location\n",
    "    ))\n",
    "\n",
    "    # Annotation location is the annotation geometry in WKT format.\n",
    "    # See https://en.wikipedia.org/wiki/Well-known_text_representation_of_geometry\n",
    "\n",
    "    # You can use Shapely library to read geometry in WKT format. See https://shapely.readthedocs.io/en/latest/\n",
    "    # See 'shapely.wkt.loads(wkt)' function in Shapely library.\n",
    "    geometry = wkt.loads(annotation.location)\n",
    "    print(\"Geometry from Shapely: {}\".format(geometry))\n",
    "\n",
    "    # In Cytomine, geometries are referenced using a cartesian coordinate system !\n",
    "    # See 'shapely.affinity.affine_transform(geom, matrix)' function in Shapely library if needed\n",
    "    if True:\n",
    "        # In OpenCV, the y-axis is reversed for points. (https://stackoverflow.com/a/47510950)\n",
    "        # x' = ax + by + x_off => x' = x\n",
    "        # y' = dx + ey + y_off => y' = -y + image.height\n",
    "        # matrix = [a, b, d, e, x_off, y_off]\n",
    "        image = get_by_id(image_instances, annotation.image)\n",
    "        geometry_opencv = affine_transform(geometry, [1, 0, 0, -1, 0, image.height])\n",
    "        print(\"Geometry with OpenCV coordinate system: {}\".format(geometry_opencv))\n",
    "print(\"\\n...\")"
   ]
  },
  {
   "cell_type": "markdown",
   "metadata": {},
   "source": [
    "## Display annotation on image"
   ]
  },
  {
   "cell_type": "code",
   "execution_count": null,
   "metadata": {
    "scrolled": false
   },
   "outputs": [],
   "source": [
    "# get image\n",
    "image_instances = ImageInstanceCollection().fetch_with_filter(\"project\", projects[0].id)\n",
    "image_id = image_instances[0].id\n",
    "img = cv2.imread(f'images_database/Team04/{image_instances[0].filename}')\n",
    "img_1 = img.copy()\n",
    "\n",
    "# get annotation\n",
    "annotations = AnnotationCollection()\n",
    "annotations.showWKT = True  # Ask to return WKT location (geometry) in the response\n",
    "annotations.showMeta = True  # Ask to return meta information (id, ...) in the response\n",
    "annotations.showGIS = True  # Ask to return GIS information (perimeter, area, ...) in the response\n",
    "annotations.image = image_id\n",
    "annotations.fetch()\n",
    "for annotation in annotations:\n",
    "    geometry = wkt.loads(annotation.location)\n",
    "\n",
    "    image = get_by_id(image_instances, annotation.image)\n",
    "    geometry_opencv = affine_transform(geometry, [1, 0, 0, -1, 0, image.height])\n",
    "    pts = geometry_opencv.coords\n",
    "    if isinstance(geometry_opencv,shapely.geometry.linestring.LineString):\n",
    "        cv2.line(img, (round(pts[0][0]), round(pts[0][1])), (round(pts[1][0]), round(pts[1][1])), (0, 0, 255), 3)\n",
    "    else:\n",
    "        print('NOT ok')\n",
    "multiDisplay([image_instances[0].filename, image_instances[0].filename], [img_1, img], 2, width=15, height=15)"
   ]
  },
  {
   "cell_type": "markdown",
   "metadata": {},
   "source": [
    "# Get all images and resp. annotations\n",
    "The variables:\n",
    "    - lines_img : list with all the lines images (correctly labeled) in a numpy array\n",
    "    - lines_ann : list of list of annotation for each image of list_img"
   ]
  },
  {
   "cell_type": "code",
   "execution_count": null,
   "metadata": {},
   "outputs": [],
   "source": [
    "# Dict with img name and id\n",
    "imgs_dict_id = {}\n",
    "imgs_dict_height = {}\n",
    "projects = ProjectCollection().fetch()\n",
    "for project in projects:\n",
    "    image_instances = ImageInstanceCollection().fetch_with_filter(\"project\", project.id)\n",
    "    for image in image_instances:\n",
    "        imgs_dict_id[image.filename] = image.id\n",
    "        imgs_dict_height[image.filename] = image.height"
   ]
  },
  {
   "cell_type": "code",
   "execution_count": null,
   "metadata": {
    "scrolled": true
   },
   "outputs": [],
   "source": [
    "# Lines images\n",
    "p = \"images_database\"\n",
    "all_names = os.listdir(p+\"/Example\")+os.listdir(p+\"/eyes\")+os.listdir(p+\"/NoEllipses\")+os.listdir(p+\"/Team01\")+\\\n",
    "            os.listdir(p+\"/Team02\")+os.listdir(p+\"/Team03\")+os.listdir(p+\"/Team04\")+os.listdir(p+\"/Team05\")+\\\n",
    "            os.listdir(p+\"/Team06\")+os.listdir(p+\"/Team07\")+os.listdir(p+\"/Team08\")+os.listdir(p+\"/Team09\")+\\\n",
    "            os.listdir(p+\"/Team10\")\n",
    "lines_img_names = sorted([img for img in all_names if (not \"elps\" in img) and img.endswith(\".png\")])\n",
    "\n",
    "print(\"Loading the line images...\")\n",
    "lines_img = []\n",
    "for name in lines_img_names:\n",
    "    lines_img.append(cv2.imread(p+\"/\"+name))\n",
    "    \n",
    "print(\"Loading the line annotations...\")\n",
    "lines_ann = []\n",
    "for name in lines_img_names:\n",
    "    annotations = AnnotationCollection()\n",
    "    annotations.showWKT = True  # Ask to return WKT location (geometry) in the response\n",
    "    annotations.showMeta = True  # Ask to return meta information (id, ...) in the response\n",
    "    annotations.showGIS = True  # Ask to return GIS information (perimeter, area, ...) in the response\n",
    "    if name in imgs_dict_id:\n",
    "        annotations.image = imgs_dict_id[name]\n",
    "    else:\n",
    "        print(f\"Image {name} not found.\")\n",
    "    annotations.fetch()\n",
    "    img_ann = []\n",
    "    err = False\n",
    "    for annotation in annotations:\n",
    "        geometry = wkt.loads(annotation.location)\n",
    "        geometry_opencv = affine_transform(geometry, [1, 0, 0, -1, 0, imgs_dict_height[name]])\n",
    "        try:\n",
    "            pts = geometry_opencv.coords\n",
    "            img_ann.append([pts[0][0], pts[0][1], pts[1][0], pts[1][1]])\n",
    "        except Exception as e: # The lines were not labeled but the ellipses\n",
    "            err = True\n",
    "            print(f\"Error with {name} : {e}.\")\n",
    "    if err and len(img_ann) == 0:\n",
    "        print(f\"Error with {name} : removed from lines_img.\")\n",
    "        lines_img.remove(cv2.imread(p+\"/\"+name))\n",
    "    else:\n",
    "        lines_ann.append(img_ann)"
   ]
  },
  {
   "cell_type": "code",
   "execution_count": null,
   "metadata": {
    "scrolled": true
   },
   "outputs": [],
   "source": [
    "# Ellipses images\n",
    "p = \"images_database\"\n",
    "all_names = os.listdir(p+\"/Example\")+os.listdir(p+\"/eyes\")+os.listdir(p+\"/NoEllipses\")+os.listdir(p+\"/Team01\")+\\\n",
    "            os.listdir(p+\"/Team02\")+os.listdir(p+\"/Team03\")+os.listdir(p+\"/Team04\")+os.listdir(p+\"/Team05\")+\\\n",
    "            os.listdir(p+\"/Team06\")+os.listdir(p+\"/Team07\")+os.listdir(p+\"/Team08\")+os.listdir(p+\"/Team09\")+\\\n",
    "            os.listdir(p+\"/Team10\")\n",
    "elps_img_names = sorted([img for img in all_names if (\"elps\" in img) and img.endswith(\".png\")])\n",
    "\n",
    "print(\"Loading the elps images...\")\n",
    "elps_img = []\n",
    "for name in elps_img_names:\n",
    "    elps_img.append(cv2.imread(p+\"/\"+name))\n",
    "    \n",
    "print(\"Loading the elps annotations...\")\n",
    "# TODO this is very long, there should be as faster way to do it with less fetching\n",
    "elps_ann = []\n",
    "for name in elps_img_names:\n",
    "    annotations = AnnotationCollection()\n",
    "    annotations.showWKT = True  # Ask to return WKT location (geometry) in the response\n",
    "    annotations.showMeta = True  # Ask to return meta information (id, ...) in the response\n",
    "    annotations.showGIS = True  # Ask to return GIS information (perimeter, area, ...) in the response\n",
    "    if name in imgs_dict_id:\n",
    "        annotations.image = imgs_dict_id[name]\n",
    "        annotations.fetch()\n",
    "        img_ann = []\n",
    "        err = False\n",
    "        for annotation in annotations:\n",
    "            geometry = wkt.loads(annotation.location)\n",
    "            geometry_opencv = affine_transform(geometry, [1, 0, 0, -1, 0, imgs_dict_height[name]])\n",
    "            try:\n",
    "                img_ann.append(geometry_opencv) # TODO change the way the info is stored?\n",
    "            except Exception as e:\n",
    "                err = True\n",
    "                print(f\"Error with {name} : {e}.\")\n",
    "        if err and len(img_ann) == 0:\n",
    "            print(f\"Error with {name} : removed from elps_img.\")\n",
    "            elps_img.remove(cv2.imread(p+\"/\"+name))\n",
    "        else:\n",
    "            elps_ann.append(img_ann)\n",
    "    else: # image not labeled (eg. eye closed images)\n",
    "        elps_ann.append([])\n",
    "        print(f\"Image {name} not found, empty list added as notation.\")\n",
    "    "
   ]
  },
  {
   "cell_type": "code",
   "execution_count": null,
   "metadata": {},
   "outputs": [],
   "source": []
  }
 ],
 "metadata": {
  "kernelspec": {
   "display_name": "Python 3",
   "language": "python",
   "name": "python3"
  },
  "language_info": {
   "codemirror_mode": {
    "name": "ipython",
    "version": 3
   },
   "file_extension": ".py",
   "mimetype": "text/x-python",
   "name": "python",
   "nbconvert_exporter": "python",
   "pygments_lexer": "ipython3",
   "version": "3.6.5"
  }
 },
 "nbformat": 4,
 "nbformat_minor": 1
}
