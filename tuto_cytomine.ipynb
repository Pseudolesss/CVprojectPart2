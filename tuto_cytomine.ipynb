{
 "cells": [
  {
   "cell_type": "markdown",
   "metadata": {
    "collapsed": true
   },
   "source": [
    "# Installation\n",
    "## Cytomine:\n",
    "Using pip, you can do it with these two lines:\n",
    "~~~\n",
    "$ curl -s https://packagecloud.io/install/repositories/cytomine-uliege/Cytomine-python-client/script.python.sh | bash\n",
    "$ pip install cytomine-python-client\n",
    "~~~\n"
   ]
  },
  {
   "cell_type": "markdown",
   "metadata": {},
   "source": [
    "# Import\n"
   ]
  },
  {
   "cell_type": "code",
   "execution_count": 1,
   "metadata": {},
   "outputs": [],
   "source": [
    "from cytomine import Cytomine\n",
    "from cytomine.models import ProjectCollection, ImageInstanceCollection, AnnotationCollection\n",
    "import getpass\n",
    "import shapely\n",
    "from shapely import wkt\n",
    "from shapely.affinity import affine_transform\n",
    "import cv2                             # OpenCV\n",
    "from imgTools import display, multiDisplay\n",
    "import os\n",
    "import logging"
   ]
  },
  {
   "cell_type": "markdown",
   "metadata": {},
   "source": [
    "# Connect to Cytomine"
   ]
  },
  {
   "cell_type": "code",
   "execution_count": null,
   "metadata": {},
   "outputs": [],
   "source": [
    "host = 'https://learn.cytomine.be'\n",
    "public_key = getpass.getpass('Public key : ')   # u can get it on your account\n",
    "private_key = getpass.getpass('Private key : ') # u can get it on your account\n",
    "\n",
    "conn = Cytomine.connect(host, public_key, private_key, verbose=logging.ERROR)\n",
    "# Check https://docs.python.org/3.6/library/logging.html#logging-levels  to see other verbose level\n",
    "print(conn.current_user)"
   ]
  },
  {
   "cell_type": "markdown",
   "metadata": {},
   "source": [
    "# Example Cytomine"
   ]
  },
  {
   "cell_type": "markdown",
   "metadata": {},
   "source": [
    "## Get projects"
   ]
  },
  {
   "cell_type": "code",
   "execution_count": null,
   "metadata": {},
   "outputs": [],
   "source": [
    "projects = ProjectCollection().fetch()\n",
    "print(\"\\nThe projects ids are : \\n--------\")\n",
    "for project in projects:\n",
    "    print(project.id)"
   ]
  },
  {
   "cell_type": "markdown",
   "metadata": {},
   "source": [
    "## Get images from projects"
   ]
  },
  {
   "cell_type": "code",
   "execution_count": null,
   "metadata": {
    "scrolled": false
   },
   "outputs": [],
   "source": [
    "projects = ProjectCollection().fetch()\n",
    "# => Fetch the collection of image instances, filtered by the given project.\n",
    "image_instances = ImageInstanceCollection().fetch_with_filter(\"project\", projects[0].id)\n",
    "print(image_instances)\n",
    "print(f\"\\nThe images of project {projects[0].id} are : \\n--------\")\n",
    "\n",
    "for image in image_instances[0:2]:\n",
    "    # Every element in the collection is an ImageInstance object.\n",
    "    # See ImageInstance class for all available properties (width, height, resolution, ...)\n",
    "    print(\"Image ID: {} | Width: {} | Height: {} | Resolution: {} | Magnification: {} | Filename: {}\".format(\n",
    "        image.id, image.width, image.height, image.resolution, image.magnification, image.filename\n",
    "    ))\n",
    "print(\"...\")\n",
    "print(f\"\\nThe fields of an image object are : \\n--------\")\n",
    "print(image_instances[0].__dict__)"
   ]
  },
  {
   "cell_type": "markdown",
   "metadata": {},
   "source": [
    "## Get annotations"
   ]
  },
  {
   "cell_type": "code",
   "execution_count": null,
   "metadata": {
    "scrolled": true
   },
   "outputs": [],
   "source": [
    "def get_by_id(haystack, needle):\n",
    "    return next((item for item in haystack if item.id == needle), None)\n",
    "\n",
    "# We want all annotations in a given project.\n",
    "annotations = AnnotationCollection()\n",
    "annotations.project = projects[0].id  # Add a filter: only annotations from this project\n",
    "# You could add other filters:\n",
    "# annotations.image = id_image => Add a filter: only annotations from this image\n",
    "# annotations.images = [id1, id2] => Add a filter: only annotations from these images\n",
    "# annotations.user = id_user => Add a filter: only annotations from this user\n",
    "# ...\n",
    "annotations.showWKT = True  # Ask to return WKT location (geometry) in the response\n",
    "annotations.showMeta = True  # Ask to return meta information (id, ...) in the response\n",
    "annotations.showGIS = True  # Ask to return GIS information (perimeter, area, ...) in the response\n",
    "# ...\n",
    "# => Fetch annotations from the server with the given filters.\n",
    "annotations.fetch()\n",
    "print(annotations)\n",
    "\n",
    "for i in range(2):\n",
    "    annotation = annotations[i]\n",
    "    print(f\"\\nAnnotation {i}:\\n---------\")\n",
    "    print(\"ID: {} | Image: {} | Project: {} | Term: {} | User: {} | Area: {} | Perimeter: {} | WKT: {}\".format(\n",
    "        annotation.id,\n",
    "        annotation.image,\n",
    "        annotation.project,\n",
    "        annotation.term,\n",
    "        annotation.user,\n",
    "        annotation.area,\n",
    "        annotation.perimeter,\n",
    "        annotation.location\n",
    "    ))\n",
    "\n",
    "    # Annotation location is the annotation geometry in WKT format.\n",
    "    # See https://en.wikipedia.org/wiki/Well-known_text_representation_of_geometry\n",
    "\n",
    "    # You can use Shapely library to read geometry in WKT format. See https://shapely.readthedocs.io/en/latest/\n",
    "    # See 'shapely.wkt.loads(wkt)' function in Shapely library.\n",
    "    geometry = wkt.loads(annotation.location)\n",
    "    print(\"Geometry from Shapely: {}\".format(geometry))\n",
    "\n",
    "    # In Cytomine, geometries are referenced using a cartesian coordinate system !\n",
    "    # See 'shapely.affinity.affine_transform(geom, matrix)' function in Shapely library if needed\n",
    "    if True:\n",
    "        # In OpenCV, the y-axis is reversed for points. (https://stackoverflow.com/a/47510950)\n",
    "        # x' = ax + by + x_off => x' = x\n",
    "        # y' = dx + ey + y_off => y' = -y + image.height\n",
    "        # matrix = [a, b, d, e, x_off, y_off]\n",
    "        image = get_by_id(image_instances, annotation.image)\n",
    "        geometry_opencv = affine_transform(geometry, [1, 0, 0, -1, 0, image.height])\n",
    "        print(\"Geometry with OpenCV coordinate system: {}\".format(geometry_opencv))\n",
    "print(\"\\n...\")"
   ]
  },
  {
   "cell_type": "markdown",
   "metadata": {},
   "source": [
    "## Display annotation on image"
   ]
  },
  {
   "cell_type": "code",
   "execution_count": null,
   "metadata": {
    "scrolled": false
   },
   "outputs": [],
   "source": [
    "# get image\n",
    "image_instances = ImageInstanceCollection().fetch_with_filter(\"project\", projects[0].id)\n",
    "image_id = image_instances[0].id\n",
    "img = cv2.imread(f'images_database/Team04/{image_instances[0].filename}')\n",
    "img_1 = img.copy()\n",
    "\n",
    "# get annotation\n",
    "annotations = AnnotationCollection()\n",
    "annotations.showWKT = True  # Ask to return WKT location (geometry) in the response\n",
    "annotations.showMeta = True  # Ask to return meta information (id, ...) in the response\n",
    "annotations.showGIS = True  # Ask to return GIS information (perimeter, area, ...) in the response\n",
    "annotations.image = image_id\n",
    "annotations.fetch()\n",
    "for annotation in annotations:\n",
    "    geometry = wkt.loads(annotation.location)\n",
    "\n",
    "    image = get_by_id(image_instances, annotation.image)\n",
    "    geometry_opencv = affine_transform(geometry, [1, 0, 0, -1, 0, image.height])\n",
    "    pts = geometry_opencv.coords\n",
    "    if isinstance(geometry_opencv,shapely.geometry.linestring.LineString):\n",
    "        cv2.line(img, (round(pts[0][0]), round(pts[0][1])), (round(pts[1][0]), round(pts[1][1])), (0, 0, 255), 3)\n",
    "    else:\n",
    "        print('NOT ok')\n",
    "multiDisplay([image_instances[0].filename, image_instances[0].filename], [img_1, img], 2, width=15, height=15)"
   ]
  },
  {
   "cell_type": "markdown",
   "metadata": {},
   "source": [
    "# Get all images and resp. annotations\n",
    "The variables:\n",
    "    - lines_img : list with all the lines images (correctly labeled) in a numpy array\n",
    "    - lines_name : list with all the names of lines images (correctly labeled)\n",
    "    - lines_ann : list of list of annotation for each image of list_img"
   ]
  },
  {
   "cell_type": "code",
   "execution_count": null,
   "metadata": {},
   "outputs": [],
   "source": [
    "# Dict with img name and id\n",
    "imgs_dict_id = {}\n",
    "imgs_dict_height = {}\n",
    "projects = ProjectCollection().fetch()\n",
    "for project in projects:\n",
    "    image_instances = ImageInstanceCollection().fetch_with_filter(\"project\", project.id)\n",
    "    for image in image_instances:\n",
    "        imgs_dict_id[image.filename] = image.id\n",
    "        imgs_dict_height[image.filename] = image.height"
   ]
  },
  {
   "cell_type": "code",
   "execution_count": 1,
   "metadata": {
    "scrolled": true
   },
   "outputs": [
    {
     "name": "stdout",
     "output_type": "stream",
     "text": [
      "The folders containing the images are \"\n",
      "['images_database/Example', 'images_database/eyes', 'images_database/NoEllipses', 'images_database/Team01', 'images_database/Team02', 'images_database/Team03', 'images_database/Team04', 'images_database/Team05', 'images_database/Team06', 'images_database/Team07', 'images_database/Team08', 'images_database/Team09', 'images_database/Team10']\n",
      "\". Do you want to change them? [y, n] : n\n"
     ]
    },
    {
     "ename": "NameError",
     "evalue": "name 'os' is not defined",
     "output_type": "error",
     "traceback": [
      "\u001b[0;31m---------------------------------------------------------------------------\u001b[0m",
      "\u001b[0;31mNameError\u001b[0m                                 Traceback (most recent call last)",
      "\u001b[0;32m<ipython-input-1-6ee69f01f2b0>\u001b[0m in \u001b[0;36m<module>\u001b[0;34m()\u001b[0m\n\u001b[1;32m     15\u001b[0m \u001b[0mall_names\u001b[0m \u001b[0;34m=\u001b[0m \u001b[0;34m[\u001b[0m\u001b[0;34m]\u001b[0m\u001b[0;34m\u001b[0m\u001b[0m\n\u001b[1;32m     16\u001b[0m \u001b[0;32mfor\u001b[0m \u001b[0mi\u001b[0m \u001b[0;32min\u001b[0m \u001b[0mrange\u001b[0m\u001b[0;34m(\u001b[0m\u001b[0mlen\u001b[0m\u001b[0;34m(\u001b[0m\u001b[0mfolders\u001b[0m\u001b[0;34m)\u001b[0m\u001b[0;34m)\u001b[0m\u001b[0;34m:\u001b[0m\u001b[0;34m\u001b[0m\u001b[0m\n\u001b[0;32m---> 17\u001b[0;31m         \u001b[0mall_names\u001b[0m \u001b[0;34m+=\u001b[0m \u001b[0mos\u001b[0m\u001b[0;34m.\u001b[0m\u001b[0mlistdir\u001b[0m\u001b[0;34m(\u001b[0m\u001b[0mfolders\u001b[0m\u001b[0;34m[\u001b[0m\u001b[0mi\u001b[0m\u001b[0;34m]\u001b[0m\u001b[0;34m)\u001b[0m\u001b[0;34m\u001b[0m\u001b[0m\n\u001b[0m\u001b[1;32m     18\u001b[0m         \u001b[0mall_files_in_folder\u001b[0m \u001b[0;34m=\u001b[0m \u001b[0mos\u001b[0m\u001b[0;34m.\u001b[0m\u001b[0mlistdir\u001b[0m\u001b[0;34m(\u001b[0m\u001b[0mfolders\u001b[0m\u001b[0;34m[\u001b[0m\u001b[0mi\u001b[0m\u001b[0;34m]\u001b[0m\u001b[0;34m)\u001b[0m\u001b[0;34m\u001b[0m\u001b[0m\n\u001b[1;32m     19\u001b[0m         \u001b[0;32mfor\u001b[0m \u001b[0mfil\u001b[0m \u001b[0;32min\u001b[0m \u001b[0mall_files_in_folder\u001b[0m\u001b[0;34m:\u001b[0m\u001b[0;34m\u001b[0m\u001b[0m\n",
      "\u001b[0;31mNameError\u001b[0m: name 'os' is not defined"
     ]
    }
   ],
   "source": [
    "p = \"images_database\"\n",
    "folders = [p+\"/Example\", p+\"/eyes\", p+\"/NoEllipses\", p+\"/Team01\", p+\"/Team02\", p+\"/Team03\", p+\"/Team04\", p+\"/Team05\",\n",
    "           p+\"/Team06\", p+\"/Team07\",p+\"/Team08\", p+\"/Team09\", p+\"/Team10\"]\n",
    "resp = input(f'The folders containing the images are \"\\n{folders}\\n\". Do you want to change them? [y, n] : ')\n",
    "if resp == \"y\":\n",
    "\tfolders = []\n",
    "\twhile True:\n",
    "\t\tpath = input(\"What is the path of a folder containing the image? : \")\n",
    "\t\tfolders.append(path)\n",
    "\t\tresp = input(f'The folder containing the images are \"{folders}\". Is there more? [y, n] : ')\n",
    "\t\tif resp == \"n\":\n",
    "\t\t\tbreak\n",
    "\t\t\t\n",
    "all_path = []\n",
    "all_names = []\n",
    "for i in range(len(folders)):\n",
    "\tall_names += os.listdir(folders[i])\n",
    "\tall_files_in_folder = os.listdir(folders[i])\n",
    "\tfor fil in all_files_in_folder:\n",
    "\t\tall_path.append(folders[i]+\"/\"+fil)\n",
    "lines_img_names = sorted([img for img in all_names if (not \"elps\" in img) and img.endswith(\".png\")])\n",
    "lines_img_path = sorted([img for img in all_path if (not \"elps\" in img) and img.endswith(\".png\")])\n",
    "\n",
    "print(\"\\nLoading the line images...\")\n",
    "lines_img = []\n",
    "lines_name = []\n",
    "for name in lines_img_path:\n",
    "\tif 'pcb' in name:\n",
    "\t\tlines_img.append(cv2.imread(name, cv2.IMREAD_GRAYSCALE))\n",
    "\telse:\n",
    "\t\tlines_img.append(cv2.imread(name))    \t\n",
    "\tlines_name.append(name.split(\"/\")[-1])\n",
    "    \n",
    "print(\"\\nLoading the line annotations...\")\n",
    "lines_ann = []\n",
    "for path in lines_img_path:\n",
    "    name = path.split(\"/\")[-1]\n",
    "    annotations = AnnotationCollection()\n",
    "    annotations.showWKT = True  # Ask to return WKT location (geometry) in the response\n",
    "    annotations.showMeta = True  # Ask to return meta information (id, ...) in the response\n",
    "    annotations.showGIS = True  # Ask to return GIS information (perimeter, area, ...) in the response\n",
    "    if name in imgs_dict_id:\n",
    "        annotations.image = imgs_dict_id[name]\n",
    "    else:\n",
    "        print(f\"Image {name} not found.\")\n",
    "    annotations.fetch()\n",
    "    img_ann = []\n",
    "    err = False\n",
    "    for annotation in annotations:\n",
    "        geometry = wkt.loads(annotation.location)\n",
    "        geometry_opencv = affine_transform(geometry, [1, 0, 0, -1, 0, imgs_dict_height[name]])\n",
    "        try:\n",
    "            pts = geometry_opencv.coords\n",
    "            img_ann.append([pts[0][0], pts[0][1], pts[1][0], pts[1][1]])\n",
    "        except Exception as e: # The lines were not labeled but the ellipses\n",
    "            err = True\n",
    "            print(f\"Error with {name} : {e}.\")\n",
    "    if err == True:\n",
    "        for path in lines_img_path:\n",
    "        \tif name in path:\n",
    "        \t\tif 'pcb' in name:\n",
    "        \t\t\timg_to_rem = cv2.imread(path, cv2.IMREAD_GRAYSCALE)\n",
    "        \t\telse:\n",
    "        \t\t\timg_to_rem = cv2.imread(path)\n",
    "        \t\tfor i in range(len(lines_img)):\n",
    "        \t\t\tif np.array_equal(lines_img[i], img_to_rem):\n",
    "        \t\t\t\t#last = i\n",
    "        \t\t\t\tlines_img.pop(i)\n",
    "        \t\t\t\tprint(f\"Error with {name} : removed from lines_img.\")\n",
    "        \t\t\t\tbreak\n",
    "        lines_name.remove(name)\n",
    "    else:\n",
    "        lines_ann.append(img_ann)"
   ]
  },
  {
   "cell_type": "code",
   "execution_count": null,
   "metadata": {
    "scrolled": true
   },
   "outputs": [],
   "source": [
    "# Ellipses images\n",
    "p = \"images_database\"\n",
    "\n",
    "p = \"images_database\"\n",
    "folders = [p+\"/Example\", p+\"/eyes\", p+\"/NoEllipses\", p+\"/Team01\", p+\"/Team02\", p+\"/Team03\", p+\"/Team04\", p+\"/Team05\",\n",
    "           p+\"/Team06\", p+\"/Team07\",p+\"/Team08\", p+\"/Team09\", p+\"/Team10\"]\n",
    "resp = input(f'The folders containing the images are \"\\n{folders}\\n\". Do you want to change them? [y, n] : ')\n",
    "if resp == \"y\":\n",
    "\tfolders = []\n",
    "\twhile True:\n",
    "\t\tpath = input(\"What is the path of a folder containing the image? : \")\n",
    "\t\tfolders.append(path)\n",
    "\t\tresp = input(f'The folder containing the images are \"{folders}\". Is there more? [y, n] : ')\n",
    "\t\tif resp == \"n\":\n",
    "\t\t\tbreak\n",
    "\t\t\t\n",
    "all_path = []\n",
    "all_names = []\n",
    "for i in range(len(folders)):\n",
    "\tall_names += os.listdir(folders[i])\n",
    "\tall_files_in_folder = os.listdir(folders[i])\n",
    "\tfor fil in all_files_in_folder:\n",
    "\t\tall_path.append(folders[i]+\"/\"+fil)\n",
    "lines_img_names = sorted([img for img in all_names if (\"elps\" in img) and img.endswith(\".png\")])\n",
    "lines_img_path = sorted([img for img in all_path if (\"elps\" in img) and img.endswith(\".png\")])\n",
    "\n",
    "print(\"\\nLoading the elps images...\")\n",
    "lines_img = []\n",
    "lines_name = []\n",
    "for name in lines_img_path:\n",
    "\tif 'pcb' in name:\n",
    "\t\tlines_img.append(cv2.imread(name, cv2.IMREAD_GRAYSCALE))\n",
    "\telse:\n",
    "\t\tlines_img.append(cv2.imread(name))    \t\n",
    "\tlines_name.append(name.split(\"/\")[-1])\n",
    "\n",
    "   \n",
    "print(\"Loading the elps annotations...\")\n",
    "# TODO this is very long, there should be as faster way to do it with less fetching\n",
    "elps_ann = []\n",
    "for name in lines_names:\n",
    "    annotations = AnnotationCollection()\n",
    "    annotations.showWKT = True  # Ask to return WKT location (geometry) in the response\n",
    "    annotations.showMeta = True  # Ask to return meta information (id, ...) in the response\n",
    "    annotations.showGIS = True  # Ask to return GIS information (perimeter, area, ...) in the response\n",
    "    if name in imgs_dict_id:\n",
    "        annotations.image = imgs_dict_id[name]\n",
    "        annotations.fetch()\n",
    "        img_ann = []\n",
    "        err = False\n",
    "        for annotation in annotations:\n",
    "            geometry = wkt.loads(annotation.location)\n",
    "            geometry_opencv = affine_transform(geometry, [1, 0, 0, -1, 0, imgs_dict_height[name]])\n",
    "            try:\n",
    "                img_ann.append(geometry_opencv) # TODO change the way the info is stored?\n",
    "            except Exception as e:\n",
    "                err = True\n",
    "                print(f\"Error with {name} : {e}.\")\n",
    "        if err and len(img_ann) == 0:\n",
    "            print(f\"Error with {name} : removed from elps_img.\")\n",
    "            elps_img.remove(cv2.imread(p+\"/\"+name))\n",
    "        else:\n",
    "            elps_ann.append(img_ann)\n",
    "    else: # image not labeled (eg. eye closed images)\n",
    "        elps_ann.append([])\n",
    "        print(f\"Image {name} not found, empty list added as notation.\")\n",
    "    "
   ]
  },
  {
   "cell_type": "code",
   "execution_count": null,
   "metadata": {},
   "outputs": [],
   "source": []
  }
 ],
 "metadata": {
  "kernelspec": {
   "display_name": "Python 3",
   "language": "python",
   "name": "python3"
  },
  "language_info": {
   "codemirror_mode": {
    "name": "ipython",
    "version": 3
   },
   "file_extension": ".py",
   "mimetype": "text/x-python",
   "name": "python",
   "nbconvert_exporter": "python",
   "pygments_lexer": "ipython3",
   "version": "3.6.5"
  }
 },
 "nbformat": 4,
 "nbformat_minor": 1
}
